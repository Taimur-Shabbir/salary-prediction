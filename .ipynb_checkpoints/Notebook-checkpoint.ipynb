{
 "cells": [
  {
   "cell_type": "markdown",
   "metadata": {},
   "source": [
    "# Salary Predictions Based on Job Descriptions"
   ]
  },
  {
   "cell_type": "markdown",
   "metadata": {},
   "source": [
    "# Part 1 - Defining the Problem"
   ]
  },
  {
   "cell_type": "markdown",
   "metadata": {},
   "source": [
    "The business problem I am facing relates to predicting the salaries of a set of new job postings. I aim to train a machine learning model on data related to existing job postings and their salaries, and generalise that to accurately predict salaries for new postings."
   ]
  },
  {
   "cell_type": "code",
   "execution_count": 2,
   "metadata": {},
   "outputs": [],
   "source": [
    "# import libraries\n",
    "import pandas as pd\n",
    "import numpy as np\n",
    "import seaborn as sns\n",
    "import matplotlib.pyplot as plt\n",
    "\n",
    "# change settings for plots\n",
    "#plt.rcParams.update({'font.size': 18, 'font.family': 'STIXGeneral', 'mathtext.fontset': 'stix'})\n",
    "#plt.rcParams.update(plt.rcParamsDefault)\n",
    "plt.style.use('fivethirtyeight')\n",
    "\n",
    "\n",
    "\n",
    "\n",
    "#from IPython.core.interactiveshell import InteractiveShell\n",
    "#InteractiveShell.ast_node_interactivity = \"all\"\n",
    "\n",
    "\n",
    "__author__ = \"Taimur Shabbir\"\n",
    "__email__ = \"alitaimurshabbir@hotmail.com\""
   ]
  },
  {
   "cell_type": "markdown",
   "metadata": {},
   "source": [
    "## Part 2 - Discovering the Data"
   ]
  },
  {
   "cell_type": "markdown",
   "metadata": {},
   "source": [
    "### Load the data"
   ]
  },
  {
   "cell_type": "code",
   "execution_count": 3,
   "metadata": {},
   "outputs": [],
   "source": [
    "data_features = pd.read_csv('/Users/alitaimurshabbir/Desktop/salary-prediction/data/train_features.csv')\n",
    "data_outcomes = pd.read_csv('/Users/alitaimurshabbir/Desktop/salary-prediction/data/train_salaries.csv')\n",
    "data_combined = pd.merge(data_features, data_outcomes, on = 'jobId')"
   ]
  },
  {
   "cell_type": "code",
   "execution_count": 4,
   "metadata": {},
   "outputs": [
    {
     "name": "stdout",
     "output_type": "stream",
     "text": [
      "1000000\n",
      "1000000\n",
      "1000000\n"
     ]
    }
   ],
   "source": [
    "# checking whether 'merge' was executed successfully by examining number of rows\n",
    "\n",
    "print(len(data_features))\n",
    "print(len(data_outcomes))\n",
    "print(len(data_combined))"
   ]
  },
  {
   "cell_type": "markdown",
   "metadata": {},
   "source": [
    "###  Cleaning data "
   ]
  },
  {
   "cell_type": "code",
   "execution_count": 5,
   "metadata": {},
   "outputs": [
    {
     "data": {
      "text/plain": [
       "jobId                  0\n",
       "companyId              0\n",
       "jobType                0\n",
       "degree                 0\n",
       "major                  0\n",
       "industry               0\n",
       "yearsExperience        0\n",
       "milesFromMetropolis    0\n",
       "salary                 0\n",
       "dtype: int64"
      ]
     },
     "execution_count": 5,
     "metadata": {},
     "output_type": "execute_result"
    }
   ],
   "source": [
    "# As a first step, I will find what data is missing. We see that no data is missing:\n",
    "\n",
    "data_combined.isnull().sum()"
   ]
  },
  {
   "cell_type": "code",
   "execution_count": 6,
   "metadata": {},
   "outputs": [
    {
     "data": {
      "text/html": [
       "<div>\n",
       "<style scoped>\n",
       "    .dataframe tbody tr th:only-of-type {\n",
       "        vertical-align: middle;\n",
       "    }\n",
       "\n",
       "    .dataframe tbody tr th {\n",
       "        vertical-align: top;\n",
       "    }\n",
       "\n",
       "    .dataframe thead th {\n",
       "        text-align: right;\n",
       "    }\n",
       "</style>\n",
       "<table border=\"1\" class=\"dataframe\">\n",
       "  <thead>\n",
       "    <tr style=\"text-align: right;\">\n",
       "      <th></th>\n",
       "      <th>jobId</th>\n",
       "      <th>companyId</th>\n",
       "      <th>jobType</th>\n",
       "      <th>degree</th>\n",
       "      <th>major</th>\n",
       "      <th>industry</th>\n",
       "      <th>yearsExperience</th>\n",
       "      <th>milesFromMetropolis</th>\n",
       "      <th>salary</th>\n",
       "    </tr>\n",
       "  </thead>\n",
       "  <tbody>\n",
       "    <tr>\n",
       "      <td>30559</td>\n",
       "      <td>JOB1362684438246</td>\n",
       "      <td>COMP44</td>\n",
       "      <td>JUNIOR</td>\n",
       "      <td>DOCTORAL</td>\n",
       "      <td>MATH</td>\n",
       "      <td>AUTO</td>\n",
       "      <td>11</td>\n",
       "      <td>7</td>\n",
       "      <td>0</td>\n",
       "    </tr>\n",
       "    <tr>\n",
       "      <td>495984</td>\n",
       "      <td>JOB1362684903671</td>\n",
       "      <td>COMP34</td>\n",
       "      <td>JUNIOR</td>\n",
       "      <td>NONE</td>\n",
       "      <td>NONE</td>\n",
       "      <td>OIL</td>\n",
       "      <td>1</td>\n",
       "      <td>25</td>\n",
       "      <td>0</td>\n",
       "    </tr>\n",
       "    <tr>\n",
       "      <td>652076</td>\n",
       "      <td>JOB1362685059763</td>\n",
       "      <td>COMP25</td>\n",
       "      <td>CTO</td>\n",
       "      <td>HIGH_SCHOOL</td>\n",
       "      <td>NONE</td>\n",
       "      <td>AUTO</td>\n",
       "      <td>6</td>\n",
       "      <td>60</td>\n",
       "      <td>0</td>\n",
       "    </tr>\n",
       "    <tr>\n",
       "      <td>816129</td>\n",
       "      <td>JOB1362685223816</td>\n",
       "      <td>COMP42</td>\n",
       "      <td>MANAGER</td>\n",
       "      <td>DOCTORAL</td>\n",
       "      <td>ENGINEERING</td>\n",
       "      <td>FINANCE</td>\n",
       "      <td>18</td>\n",
       "      <td>6</td>\n",
       "      <td>0</td>\n",
       "    </tr>\n",
       "    <tr>\n",
       "      <td>828156</td>\n",
       "      <td>JOB1362685235843</td>\n",
       "      <td>COMP40</td>\n",
       "      <td>VICE_PRESIDENT</td>\n",
       "      <td>MASTERS</td>\n",
       "      <td>ENGINEERING</td>\n",
       "      <td>WEB</td>\n",
       "      <td>3</td>\n",
       "      <td>29</td>\n",
       "      <td>0</td>\n",
       "    </tr>\n",
       "  </tbody>\n",
       "</table>\n",
       "</div>"
      ],
      "text/plain": [
       "                   jobId companyId         jobType       degree        major  \\\n",
       "30559   JOB1362684438246    COMP44          JUNIOR     DOCTORAL         MATH   \n",
       "495984  JOB1362684903671    COMP34          JUNIOR         NONE         NONE   \n",
       "652076  JOB1362685059763    COMP25             CTO  HIGH_SCHOOL         NONE   \n",
       "816129  JOB1362685223816    COMP42         MANAGER     DOCTORAL  ENGINEERING   \n",
       "828156  JOB1362685235843    COMP40  VICE_PRESIDENT      MASTERS  ENGINEERING   \n",
       "\n",
       "       industry  yearsExperience  milesFromMetropolis  salary  \n",
       "30559      AUTO               11                    7       0  \n",
       "495984      OIL                1                   25       0  \n",
       "652076     AUTO                6                   60       0  \n",
       "816129  FINANCE               18                    6       0  \n",
       "828156      WEB                3                   29       0  "
      ]
     },
     "execution_count": 6,
     "metadata": {},
     "output_type": "execute_result"
    }
   ],
   "source": [
    "# checking for potentially incorrect data among numerical variables\n",
    "\n",
    "data_combined.describe()\n",
    "\n",
    "data_combined[data_combined['salary'] == 0]\n",
    "\n",
    "# There are a few records for salaries with a value of 0. These must be incorrect"
   ]
  },
  {
   "cell_type": "markdown",
   "metadata": {},
   "source": [
    "The best way to deal with this missing data is to drop the relevant rows, for two reasons.\n",
    "\n",
    "- First, the missing component is the outcome variable, salary, so we cannot use the traditional methods of data replacement we would use with missing values of features\n",
    "\n",
    "\n",
    "- Second, we have 1 million rows in our table. Dropping 5 rows is going to be a trivial loss of data."
   ]
  },
  {
   "cell_type": "code",
   "execution_count": 7,
   "metadata": {},
   "outputs": [],
   "source": [
    "data_combined = data_combined.drop(data_combined[data_combined.salary == 0].index)"
   ]
  },
  {
   "cell_type": "markdown",
   "metadata": {},
   "source": [
    "Next I want to check the unique values for a few columns with the 'object' data type. This is to see, for example, if there are misspellings for entries in the 'jobType' column."
   ]
  },
  {
   "cell_type": "code",
   "execution_count": 8,
   "metadata": {},
   "outputs": [
    {
     "data": {
      "text/plain": [
       "SENIOR            125886\n",
       "VICE_PRESIDENT    125234\n",
       "MANAGER           125120\n",
       "CTO               125045\n",
       "JANITOR           124971\n",
       "CEO               124778\n",
       "JUNIOR            124592\n",
       "CFO               124369\n",
       "Name: jobType, dtype: int64"
      ]
     },
     "execution_count": 8,
     "metadata": {},
     "output_type": "execute_result"
    }
   ],
   "source": [
    "data_combined['jobType'].value_counts()"
   ]
  },
  {
   "cell_type": "code",
   "execution_count": 9,
   "metadata": {},
   "outputs": [
    {
     "data": {
      "text/plain": [
       "HIGH_SCHOOL    236975\n",
       "NONE           236853\n",
       "BACHELORS      175495\n",
       "DOCTORAL       175362\n",
       "MASTERS        175310\n",
       "Name: degree, dtype: int64"
      ]
     },
     "execution_count": 9,
     "metadata": {},
     "output_type": "execute_result"
    }
   ],
   "source": [
    "data_combined['degree'].value_counts()"
   ]
  },
  {
   "cell_type": "code",
   "execution_count": 10,
   "metadata": {},
   "outputs": [
    {
     "data": {
      "text/plain": [
       "NONE           532353\n",
       "CHEMISTRY       58875\n",
       "LITERATURE      58684\n",
       "ENGINEERING     58594\n",
       "BUSINESS        58518\n",
       "PHYSICS         58410\n",
       "COMPSCI         58382\n",
       "BIOLOGY         58379\n",
       "MATH            57800\n",
       "Name: major, dtype: int64"
      ]
     },
     "execution_count": 10,
     "metadata": {},
     "output_type": "execute_result"
    }
   ],
   "source": [
    "data_combined['major'].value_counts()"
   ]
  },
  {
   "cell_type": "markdown",
   "metadata": {},
   "source": [
    "There are no misspellings for the values in any of the columns investigated."
   ]
  },
  {
   "cell_type": "markdown",
   "metadata": {},
   "source": [
    "###  Exploring data (EDA) "
   ]
  },
  {
   "cell_type": "markdown",
   "metadata": {},
   "source": [
    "**Investigate 'salary':**"
   ]
  },
  {
   "cell_type": "code",
   "execution_count": 11,
   "metadata": {},
   "outputs": [
    {
     "data": {
      "text/plain": [
       "Text(0, 0.5, 'Frequency')"
      ]
     },
     "execution_count": 11,
     "metadata": {},
     "output_type": "execute_result"
    },
    {
     "data": {
      "image/png": "[encoded data removed]",
      "text/plain": [
       "<Figure size 864x432 with 1 Axes>"
      ]
     },
     "metadata": {
      "needs_background": "light"
     },
     "output_type": "display_data"
    }
   ],
   "source": [
    "plt.figure(figsize=(12,6))\n",
    "\n",
    "sns.distplot(data_combined['salary'], kde=False, bins=40, color = 'teal')\n",
    "\n",
    "plt.title('Distribution of Salary in Arbitrary Units', fontsize = 18)\n",
    "plt.xlabel('Salary (Arbitrary Units)')\n",
    "plt.ylabel('Frequency')\n"
   ]
  },
  {
   "cell_type": "markdown",
   "metadata": {},
   "source": [
    "**Investigate numerical variables 'yearsExperience' and 'milesFromMetropolis':**"
   ]
  },
  {
   "cell_type": "code",
   "execution_count": 12,
   "metadata": {},
   "outputs": [
    {
     "data": {
      "text/plain": [
       "Text(0, 0.5, 'Miles')"
      ]
     },
     "execution_count": 12,
     "metadata": {},
     "output_type": "execute_result"
    },
    {
     "data": {
      "image/png": "[encoded data removed]",
      "text/plain": [
       "<Figure size 1080x576 with 2 Axes>"
      ]
     },
     "metadata": {
      "needs_background": "light"
     },
     "output_type": "display_data"
    }
   ],
   "source": [
    "fig, (ax1, ax2) = plt.subplots(nrows = 1, ncols = 2, figsize = (15, 8))\n",
    "\n",
    "ax1.boxplot(data_combined['yearsExperience'],\n",
    "            showfliers = True, patch_artist = True,\n",
    "            boxprops = dict(facecolor = 'cadetblue', color = 'cadetblue'))\n",
    "            \n",
    "ax1.set_title('Distribution of Years of Experience', fontsize = 16)\n",
    "ax1.set_ylabel('Years')\n",
    "\n",
    "\n",
    "\n",
    "ax2.boxplot(data_combined['milesFromMetropolis'],\n",
    "            showfliers = True, patch_artist = True, \n",
    "            boxprops = dict(facecolor = 'powderblue', color = 'powderblue'))\n",
    "            \n",
    "ax2.set_title('Distribution of Miles From Metropolis', fontsize = 16)\n",
    "ax2.set_ylabel('Miles')"
   ]
  },
  {
   "cell_type": "markdown",
   "metadata": {},
   "source": [
    "#### Investigate relationship between the above two interval variables and 'salary'"
   ]
  },
  {
   "cell_type": "code",
   "execution_count": 13,
   "metadata": {},
   "outputs": [
    {
     "data": {
      "text/plain": [
       "Text(0, 0.5, 'Salary (Arbitrary Units)')"
      ]
     },
     "execution_count": 13,
     "metadata": {},
     "output_type": "execute_result"
    },
    {
     "data": {
      "image/png": "[encoded data removed]",
      "text/plain": [
       "<Figure size 864x576 with 1 Axes>"
      ]
     },
     "metadata": {
      "needs_background": "light"
     },
     "output_type": "display_data"
    }
   ],
   "source": [
    "# take a small random sample of data for better visualisation\n",
    "\n",
    "small_sample_data = data_combined.sample(n = 3000, random_state = 42)\n",
    "\n",
    "plt.figure(figsize = (12, 8))\n",
    "\n",
    "plt.scatter(small_sample_data['milesFromMetropolis'],\n",
    "            small_sample_data['salary'], alpha = 0.5,\n",
    "            c = 'cadetblue')\n",
    "\n",
    "plt.title('Miles From Metropolis Versus Salary')\n",
    "plt.xlabel('Distance From Metropolis (Miles)')\n",
    "plt.ylabel('Salary (Arbitrary Units)')"
   ]
  },
  {
   "cell_type": "code",
   "execution_count": 14,
   "metadata": {},
   "outputs": [
    {
     "data": {
      "text/plain": [
       "Text(0, 0.5, 'Salary (Arbitrary Units)')"
      ]
     },
     "execution_count": 14,
     "metadata": {},
     "output_type": "execute_result"
    },
    {
     "data": {
      "image/png": "[encoded data removed]",
      "text/plain": [
       "<Figure size 864x576 with 1 Axes>"
      ]
     },
     "metadata": {
      "needs_background": "light"
     },
     "output_type": "display_data"
    }
   ],
   "source": [
    "plt.figure(figsize = (12, 8))\n",
    "\n",
    "plt.scatter(small_sample_data['yearsExperience'],\n",
    "            small_sample_data['salary'], alpha = 0.8,\n",
    "            c = 'powderblue')\n",
    "\n",
    "plt.title('Years of Experience Versus Salary')\n",
    "plt.xlabel('Work Experience (Years)')\n",
    "plt.ylabel('Salary (Arbitrary Units)')"
   ]
  },
  {
   "cell_type": "markdown",
   "metadata": {},
   "source": [
    "**Interpretation:**\n",
    "\n",
    "- 'Salary' is fairly normally distributed with a slight positive skew, which means the mean and the median are greater than the mode. The mean is being 'pulled' up by a few instances with very large values (above 250)\n",
    "\n",
    "\n",
    "- The median of years of work experience required is 12. 50% of the postings require between approximately 6 and 17 years. There are cases where the job posting is aimed at those who are starting their careers, with 0 years of experience, and cases where postings require candidates who have been in the workforce for a long time, approaching 24 years\n",
    "\n",
    "\n",
    "- On the other hand, there are a few jobs available in Metropolis (0 miles away from this city) and a few who require a long commute (nearly 100 miles). These are extreme points, as the majority of postings lie between 25 and 75 miles\n",
    "\n",
    "\n",
    "- Distance from Metropolis and Salary have a very weak linear and negative relationship. Conversely, Years of Work experience and Salary have a very weak linear and positive relationship\n",
    "\n",
    "\n",
    "- Since these are our two main interval features, we can question whether we need to scale them. From the y-axes of both boxplots, there is a noticeable difference in the magnitude of the data. We keep in mind this observation for now and will return to it if needed\n",
    "\n",
    "\n",
    "----"
   ]
  },
  {
   "cell_type": "markdown",
   "metadata": {},
   "source": [
    "#### Next I want to see the distributions of salary among different types industries. \n",
    "\n",
    "I will choose 3 diverse values for this variable just to get an idea of the data:\n",
    "\n",
    "'AUTO', 'OIL' and 'EDUCATION'"
   ]
  },
  {
   "cell_type": "code",
   "execution_count": 15,
   "metadata": {},
   "outputs": [],
   "source": [
    "# create dataframes\n",
    "\n",
    "auto_salary_df = data_combined.loc[(data_combined['industry'] == 'AUTO')]\n",
    "\n",
    "oil_salary_df = data_combined.loc[(data_combined['industry'] == 'OIL')]\n",
    "\n",
    "education_salary_df = data_combined.loc[(data_combined['industry'] == 'EDUCATION')]"
   ]
  },
  {
   "cell_type": "code",
   "execution_count": 16,
   "metadata": {},
   "outputs": [
    {
     "data": {
      "image/png": "[encoded data removed]",
      "text/plain": [
       "<Figure size 1440x576 with 3 Axes>"
      ]
     },
     "metadata": {
      "needs_background": "light"
     },
     "output_type": "display_data"
    }
   ],
   "source": [
    "# create plots\n",
    "\n",
    "fig, (ax1, ax2, ax3) = plt.subplots(nrows = 1, ncols = 3, figsize = (20, 8), sharey = True)\n",
    "\n",
    "\n",
    "\n",
    "ax1.boxplot(auto_salary_df['salary'], patch_artist = True,\n",
    "            boxprops=dict(facecolor= 'firebrick', color='firebrick'))\n",
    "\n",
    "ax1.set_xlabel('Automobile Industry', fontsize = 16)\n",
    "ax1.set_ylabel('Salary (Arbitrary Units)', fontsize = 16)\n",
    "ax1.tick_params(axis = 'both', which = 'major', labelsize = 12)\n",
    "ax1.set_ylim(0, 250)\n",
    "\n",
    "\n",
    "ax2.boxplot(oil_salary_df['salary'], patch_artist = True,\n",
    "            boxprops = dict(facecolor = 'black', color = 'black'))\n",
    "\n",
    "ax2.set_xlabel('Oil Industry', fontsize = 16)\n",
    "ax2.tick_params(axis = 'both', which = 'major', labelsize = 12)\n",
    "\n",
    "\n",
    "ax3.boxplot(education_salary_df['salary'], patch_artist = True,\n",
    "            boxprops = dict(facecolor = 'darkgreen', color = 'navy'))\n",
    "\n",
    "ax3.set_xlabel('Education Industry', fontsize = 16)\n",
    "ax3.tick_params(axis = 'both', which = 'major', labelsize = 12)\n",
    "\n",
    "\n",
    "ax2.set_title('Distribution of Salary Among Automobile, Oil and Education Industries', fontsize = 22)\n",
    "\n",
    "ax1.tick_params(axis = 'both', which = 'major', labelsize = 12)"
   ]
  },
  {
   "cell_type": "markdown",
   "metadata": {},
   "source": [
    "**Interpretation**\n",
    "\n",
    "There are noticeable but small differences among the 3 chosen industry in terms of salary distribution. \n",
    "\n",
    "- The highest-paying job postings in the Oil industry earn the most compared to their counterparts in the other two industries. The same can be said for the lowest-paying roles\n",
    "\n",
    "\n",
    "- The middle 50% of job postings in Oil also pay more than the middle 50% in the Automobile and Education industries\n",
    "\n",
    "\n",
    "- The salaries offered for jobs in the Automobile industry seem to lie in the middle of the other two industries\n",
    "\n",
    "\n",
    "- Substantial numbers of outliers exist for all 3 industries\n",
    "\n",
    "This visualisation suggests there may be a link between the type of industry one is in and the salary offered by the job. As a result, the type of industry may have some predictive power in computing new salaries."
   ]
  },
  {
   "cell_type": "markdown",
   "metadata": {},
   "source": [
    "---\n",
    "#### Investigating mean salary per industry"
   ]
  },
  {
   "cell_type": "code",
   "execution_count": 17,
   "metadata": {},
   "outputs": [],
   "source": [
    "industry_salary_df = data_combined.groupby('industry').mean().reset_index()"
   ]
  },
  {
   "cell_type": "code",
   "execution_count": 18,
   "metadata": {},
   "outputs": [
    {
     "data": {
      "text/plain": [
       "Text(0.5, 0, 'Industry')"
      ]
     },
     "execution_count": 18,
     "metadata": {},
     "output_type": "execute_result"
    },
    {
     "data": {
      "image/png": "[encoded data removed]",
      "text/plain": [
       "<Figure size 864x432 with 1 Axes>"
      ]
     },
     "metadata": {
      "needs_background": "light"
     },
     "output_type": "display_data"
    }
   ],
   "source": [
    "plt.figure(figsize = (12, 6))\n",
    "plt.bar(industry_salary_df['industry'], industry_salary_df['salary'], color = 'mediumpurple')\n",
    "plt.title('Average Salary Offered By Industry')\n",
    "plt.ylabel('Salary (Arbitrary Units)')\n",
    "plt.xlabel('Industry')"
   ]
  },
  {
   "cell_type": "markdown",
   "metadata": {},
   "source": [
    "**Interpretation**\n",
    "\n",
    "- Oil and Finance offer the highest paying jobs on average. Education and Service conversely offer the lowest paying jobs on average\n",
    "\n",
    "----"
   ]
  },
  {
   "cell_type": "markdown",
   "metadata": {},
   "source": [
    "### Investigating how salary differs with job type/seniority"
   ]
  },
  {
   "cell_type": "code",
   "execution_count": 19,
   "metadata": {},
   "outputs": [],
   "source": [
    "jobType_df = data_combined.loc[:, ['jobType', 'salary']]"
   ]
  },
  {
   "cell_type": "code",
   "execution_count": 20,
   "metadata": {},
   "outputs": [
    {
     "data": {
      "image/png": "[encoded data removed]",
      "text/plain": [
       "<Figure size 1008x576 with 1 Axes>"
      ]
     },
     "metadata": {
      "needs_background": "light"
     },
     "output_type": "display_data"
    }
   ],
   "source": [
    "jobType_df.boxplot(by=\"jobType\",\n",
    "                   column=\"salary\", \n",
    "                   patch_artist = True,\n",
    "                   showfliers = True, \n",
    "                   figsize = (14, 8))\n",
    "\n",
    "plt.title('How Salary Differs With Job Seniority')\n",
    "plt.ylabel('Salary (Arbitrary Units)')\n",
    "plt.xlabel('Type/Seniority of Job')\n",
    "plt.tick_params(axis = 'both', which = 'major', labelsize = 9)\n",
    "plt.show()"
   ]
  },
  {
   "cell_type": "markdown",
   "metadata": {},
   "source": [
    "**Interpretation**\n",
    "\n",
    "- The data suggests what one might expect; more senior roles usually pay higher salaries. The middle 50%, lowest paying and highest paying CEO, CFO and CTO jobs pay the most on average compared to other roles.\n",
    "\n",
    "\n",
    "- Janitor and Junior jobs pay the least\n",
    "\n",
    "\n",
    "- The distribution of salary is fairly well correlated with the seniority of the job overall"
   ]
  },
  {
   "cell_type": "markdown",
   "metadata": {},
   "source": [
    "**Correlations between integer variables**"
   ]
  },
  {
   "cell_type": "code",
   "execution_count": 21,
   "metadata": {},
   "outputs": [
    {
     "data": {
      "text/plain": [
       "<matplotlib.axes._subplots.AxesSubplot at 0x7f95f5c76ad0>"
      ]
     },
     "execution_count": 21,
     "metadata": {},
     "output_type": "execute_result"
    },
    {
     "data": {
      "image/png": "[encoded data removed]",
      "text/plain": [
       "<Figure size 864x720 with 2 Axes>"
      ]
     },
     "metadata": {
      "needs_background": "light"
     },
     "output_type": "display_data"
    }
   ],
   "source": [
    "fig, axes = plt.subplots(1, 1, figsize = (12, 10))\n",
    "sns.heatmap(data_combined.corr(), annot = True, fmt = '.2f', cmap = 'mako')"
   ]
  },
  {
   "cell_type": "markdown",
   "metadata": {},
   "source": [
    "**Interpretation**\n",
    "\n",
    "- As suggested by our initial scatterplots, 'milesFromMetropolis' has a weak, negative correlation with 'salary' while 'yearsExperience' has a weak, positive correlation with 'salary', with coefficients of -0.3 and 0.38 respectively. This suggests both of these variables may have some predictive power"
   ]
  },
  {
   "cell_type": "markdown",
   "metadata": {},
   "source": [
    "###  Establishing a baseline"
   ]
  },
  {
   "cell_type": "markdown",
   "metadata": {},
   "source": [
    "For a baseline model, I will use the average salary per industry as the prediction. \n",
    "\n",
    "I will then calculate RMSE to find a benchmark to improve upon."
   ]
  },
  {
   "cell_type": "code",
   "execution_count": 22,
   "metadata": {},
   "outputs": [],
   "source": [
    "industry_salary_mean = data_combined.groupby('industry')['salary'].mean()"
   ]
  },
  {
   "cell_type": "code",
   "execution_count": 23,
   "metadata": {},
   "outputs": [],
   "source": [
    "# initialise variables\n",
    "\n",
    "auto_salary = industry_salary_mean[0]\n",
    "education_salary = industry_salary_mean[1]\n",
    "finance_salary = industry_salary_mean[2]\n",
    "health_salary = industry_salary_mean[3]\n",
    "oil_salary = industry_salary_mean[4]\n",
    "service_salary = industry_salary_mean[5]\n",
    "web_salary = industry_salary_mean[6]"
   ]
  },
  {
   "cell_type": "code",
   "execution_count": 24,
   "metadata": {},
   "outputs": [],
   "source": [
    "# create new Baseline Prediction column and fill with NaNs, to be replaced shortly\n",
    "\n",
    "data_combined['Baseline Prediction'] = np.nan"
   ]
  },
  {
   "cell_type": "code",
   "execution_count": 25,
   "metadata": {},
   "outputs": [],
   "source": [
    "# replace each NaN with the average salary of the industry for the relevant row\n",
    "\n",
    "data_combined['Baseline Prediction'] = np.where(\n",
    "                                      (data_combined['industry'] == 'AUTO'), \n",
    "                                       auto_salary, data_combined['Baseline Prediction'])\n",
    "\n",
    "data_combined['Baseline Prediction'] = np.where(\n",
    "                                      (data_combined['industry'] == 'EDUCATION'), \n",
    "                                       education_salary, data_combined['Baseline Prediction'])\n",
    "\n",
    "data_combined['Baseline Prediction'] = np.where(\n",
    "                                      (data_combined['industry'] == 'FINANCE'), \n",
    "                                       finance_salary, data_combined['Baseline Prediction'])\n",
    "\n",
    "data_combined['Baseline Prediction'] = np.where(\n",
    "                                      (data_combined['industry'] == 'HEALTH'), \n",
    "                                       health_salary, data_combined['Baseline Prediction'])\n",
    "\n",
    "data_combined['Baseline Prediction'] = np.where(\n",
    "                                      (data_combined['industry'] == 'OIL'), \n",
    "                                       oil_salary, data_combined['Baseline Prediction'])\n",
    "\n",
    "data_combined['Baseline Prediction'] = np.where(\n",
    "                                      (data_combined['industry'] == 'SERVICE'), \n",
    "                                       service_salary, data_combined['Baseline Prediction'])\n",
    "\n",
    "data_combined['Baseline Prediction'] = np.where(\n",
    "                                      (data_combined['industry'] == 'WEB'), \n",
    "                                       web_salary, data_combined['Baseline Prediction'])"
   ]
  },
  {
   "cell_type": "code",
   "execution_count": 26,
   "metadata": {},
   "outputs": [
    {
     "data": {
      "text/html": [
       "<div>\n",
       "<style scoped>\n",
       "    .dataframe tbody tr th:only-of-type {\n",
       "        vertical-align: middle;\n",
       "    }\n",
       "\n",
       "    .dataframe tbody tr th {\n",
       "        vertical-align: top;\n",
       "    }\n",
       "\n",
       "    .dataframe thead th {\n",
       "        text-align: right;\n",
       "    }\n",
       "</style>\n",
       "<table border=\"1\" class=\"dataframe\">\n",
       "  <thead>\n",
       "    <tr style=\"text-align: right;\">\n",
       "      <th></th>\n",
       "      <th>jobId</th>\n",
       "      <th>companyId</th>\n",
       "      <th>jobType</th>\n",
       "      <th>degree</th>\n",
       "      <th>major</th>\n",
       "      <th>industry</th>\n",
       "      <th>yearsExperience</th>\n",
       "      <th>milesFromMetropolis</th>\n",
       "      <th>salary</th>\n",
       "      <th>Baseline Prediction</th>\n",
       "    </tr>\n",
       "  </thead>\n",
       "  <tbody>\n",
       "    <tr>\n",
       "      <td>0</td>\n",
       "      <td>JOB1362684407687</td>\n",
       "      <td>COMP37</td>\n",
       "      <td>CFO</td>\n",
       "      <td>MASTERS</td>\n",
       "      <td>MATH</td>\n",
       "      <td>HEALTH</td>\n",
       "      <td>10</td>\n",
       "      <td>83</td>\n",
       "      <td>130</td>\n",
       "      <td>115.735540</td>\n",
       "    </tr>\n",
       "    <tr>\n",
       "      <td>1</td>\n",
       "      <td>JOB1362684407688</td>\n",
       "      <td>COMP19</td>\n",
       "      <td>CEO</td>\n",
       "      <td>HIGH_SCHOOL</td>\n",
       "      <td>NONE</td>\n",
       "      <td>WEB</td>\n",
       "      <td>3</td>\n",
       "      <td>73</td>\n",
       "      <td>101</td>\n",
       "      <td>121.645362</td>\n",
       "    </tr>\n",
       "    <tr>\n",
       "      <td>2</td>\n",
       "      <td>JOB1362684407689</td>\n",
       "      <td>COMP52</td>\n",
       "      <td>VICE_PRESIDENT</td>\n",
       "      <td>DOCTORAL</td>\n",
       "      <td>PHYSICS</td>\n",
       "      <td>HEALTH</td>\n",
       "      <td>10</td>\n",
       "      <td>38</td>\n",
       "      <td>137</td>\n",
       "      <td>115.735540</td>\n",
       "    </tr>\n",
       "    <tr>\n",
       "      <td>3</td>\n",
       "      <td>JOB1362684407690</td>\n",
       "      <td>COMP38</td>\n",
       "      <td>MANAGER</td>\n",
       "      <td>DOCTORAL</td>\n",
       "      <td>CHEMISTRY</td>\n",
       "      <td>AUTO</td>\n",
       "      <td>8</td>\n",
       "      <td>17</td>\n",
       "      <td>142</td>\n",
       "      <td>109.435222</td>\n",
       "    </tr>\n",
       "    <tr>\n",
       "      <td>4</td>\n",
       "      <td>JOB1362684407691</td>\n",
       "      <td>COMP7</td>\n",
       "      <td>VICE_PRESIDENT</td>\n",
       "      <td>BACHELORS</td>\n",
       "      <td>PHYSICS</td>\n",
       "      <td>FINANCE</td>\n",
       "      <td>8</td>\n",
       "      <td>16</td>\n",
       "      <td>163</td>\n",
       "      <td>130.747659</td>\n",
       "    </tr>\n",
       "    <tr>\n",
       "      <td>...</td>\n",
       "      <td>...</td>\n",
       "      <td>...</td>\n",
       "      <td>...</td>\n",
       "      <td>...</td>\n",
       "      <td>...</td>\n",
       "      <td>...</td>\n",
       "      <td>...</td>\n",
       "      <td>...</td>\n",
       "      <td>...</td>\n",
       "      <td>...</td>\n",
       "    </tr>\n",
       "    <tr>\n",
       "      <td>999995</td>\n",
       "      <td>JOB1362685407682</td>\n",
       "      <td>COMP56</td>\n",
       "      <td>VICE_PRESIDENT</td>\n",
       "      <td>BACHELORS</td>\n",
       "      <td>CHEMISTRY</td>\n",
       "      <td>HEALTH</td>\n",
       "      <td>19</td>\n",
       "      <td>94</td>\n",
       "      <td>88</td>\n",
       "      <td>115.735540</td>\n",
       "    </tr>\n",
       "    <tr>\n",
       "      <td>999996</td>\n",
       "      <td>JOB1362685407683</td>\n",
       "      <td>COMP24</td>\n",
       "      <td>CTO</td>\n",
       "      <td>HIGH_SCHOOL</td>\n",
       "      <td>NONE</td>\n",
       "      <td>FINANCE</td>\n",
       "      <td>12</td>\n",
       "      <td>35</td>\n",
       "      <td>160</td>\n",
       "      <td>130.747659</td>\n",
       "    </tr>\n",
       "    <tr>\n",
       "      <td>999997</td>\n",
       "      <td>JOB1362685407684</td>\n",
       "      <td>COMP23</td>\n",
       "      <td>JUNIOR</td>\n",
       "      <td>HIGH_SCHOOL</td>\n",
       "      <td>NONE</td>\n",
       "      <td>EDUCATION</td>\n",
       "      <td>16</td>\n",
       "      <td>81</td>\n",
       "      <td>64</td>\n",
       "      <td>99.448386</td>\n",
       "    </tr>\n",
       "    <tr>\n",
       "      <td>999998</td>\n",
       "      <td>JOB1362685407685</td>\n",
       "      <td>COMP3</td>\n",
       "      <td>CFO</td>\n",
       "      <td>MASTERS</td>\n",
       "      <td>NONE</td>\n",
       "      <td>HEALTH</td>\n",
       "      <td>6</td>\n",
       "      <td>5</td>\n",
       "      <td>149</td>\n",
       "      <td>115.735540</td>\n",
       "    </tr>\n",
       "    <tr>\n",
       "      <td>999999</td>\n",
       "      <td>JOB1362685407686</td>\n",
       "      <td>COMP59</td>\n",
       "      <td>JUNIOR</td>\n",
       "      <td>BACHELORS</td>\n",
       "      <td>NONE</td>\n",
       "      <td>EDUCATION</td>\n",
       "      <td>20</td>\n",
       "      <td>11</td>\n",
       "      <td>88</td>\n",
       "      <td>99.448386</td>\n",
       "    </tr>\n",
       "  </tbody>\n",
       "</table>\n",
       "<p>999995 rows × 10 columns</p>\n",
       "</div>"
      ],
      "text/plain": [
       "                   jobId companyId         jobType       degree      major  \\\n",
       "0       JOB1362684407687    COMP37             CFO      MASTERS       MATH   \n",
       "1       JOB1362684407688    COMP19             CEO  HIGH_SCHOOL       NONE   \n",
       "2       JOB1362684407689    COMP52  VICE_PRESIDENT     DOCTORAL    PHYSICS   \n",
       "3       JOB1362684407690    COMP38         MANAGER     DOCTORAL  CHEMISTRY   \n",
       "4       JOB1362684407691     COMP7  VICE_PRESIDENT    BACHELORS    PHYSICS   \n",
       "...                  ...       ...             ...          ...        ...   \n",
       "999995  JOB1362685407682    COMP56  VICE_PRESIDENT    BACHELORS  CHEMISTRY   \n",
       "999996  JOB1362685407683    COMP24             CTO  HIGH_SCHOOL       NONE   \n",
       "999997  JOB1362685407684    COMP23          JUNIOR  HIGH_SCHOOL       NONE   \n",
       "999998  JOB1362685407685     COMP3             CFO      MASTERS       NONE   \n",
       "999999  JOB1362685407686    COMP59          JUNIOR    BACHELORS       NONE   \n",
       "\n",
       "         industry  yearsExperience  milesFromMetropolis  salary  \\\n",
       "0          HEALTH               10                   83     130   \n",
       "1             WEB                3                   73     101   \n",
       "2          HEALTH               10                   38     137   \n",
       "3            AUTO                8                   17     142   \n",
       "4         FINANCE                8                   16     163   \n",
       "...           ...              ...                  ...     ...   \n",
       "999995     HEALTH               19                   94      88   \n",
       "999996    FINANCE               12                   35     160   \n",
       "999997  EDUCATION               16                   81      64   \n",
       "999998     HEALTH                6                    5     149   \n",
       "999999  EDUCATION               20                   11      88   \n",
       "\n",
       "        Baseline Prediction  \n",
       "0                115.735540  \n",
       "1                121.645362  \n",
       "2                115.735540  \n",
       "3                109.435222  \n",
       "4                130.747659  \n",
       "...                     ...  \n",
       "999995           115.735540  \n",
       "999996           130.747659  \n",
       "999997            99.448386  \n",
       "999998           115.735540  \n",
       "999999            99.448386  \n",
       "\n",
       "[999995 rows x 10 columns]"
      ]
     },
     "execution_count": 26,
     "metadata": {},
     "output_type": "execute_result"
    }
   ],
   "source": [
    "data_combined"
   ]
  },
  {
   "cell_type": "code",
   "execution_count": 27,
   "metadata": {},
   "outputs": [],
   "source": [
    "# separate features, output and baseline predictions from one another\n",
    "\n",
    "X_train = data_combined[['jobId', 'companyId', 'jobType', \n",
    "                 'degree', 'major', 'industry',\n",
    "                 'yearsExperience', 'milesFromMetropolis']]\n",
    "\n",
    "y_train = data_combined['salary']\n",
    "\n",
    "y_predicted = data_combined['Baseline Prediction']"
   ]
  },
  {
   "cell_type": "code",
   "execution_count": 28,
   "metadata": {},
   "outputs": [
    {
     "name": "stdout",
     "output_type": "stream",
     "text": [
      "The baseline model RMSE is 36.974625769373986\n"
     ]
    }
   ],
   "source": [
    "# calculate MSE\n",
    "\n",
    "from sklearn.metrics import mean_squared_error\n",
    "from math import sqrt\n",
    "rmse = sqrt(mean_squared_error(y_train, y_predicted))\n",
    "\n",
    "print('The baseline model RMSE is {}'.format(rmse))"
   ]
  },
  {
   "cell_type": "markdown",
   "metadata": {},
   "source": [
    "For referencial purposes, I will also calculate MSE:"
   ]
  },
  {
   "cell_type": "code",
   "execution_count": 29,
   "metadata": {},
   "outputs": [
    {
     "name": "stdout",
     "output_type": "stream",
     "text": [
      "The baseline model MSE is 1367.122950785255\n"
     ]
    }
   ],
   "source": [
    "mse = rmse**2\n",
    "print('The baseline model MSE is {}'.format(mse))"
   ]
  },
  {
   "cell_type": "markdown",
   "metadata": {},
   "source": [
    "### Hypothesising A Solution"
   ]
  },
  {
   "cell_type": "markdown",
   "metadata": {},
   "source": [
    "The three models I have chosen are\n",
    "\n",
    "**Linear and Polynomial Regression**: Linear regression is a simple and effective model that serves as a good place to start. We saw from our EDA that the two interval variables we have a weak linear relationship with salary. \n",
    "\n",
    "Combined with the newly encoded categorical variables that are engineered in the following cells, which linear regression can handle easily, it is worthwhile to see how Linear Regression performs as a simple model, over which we can use more advanced models or ensemble methods if the need arises\n",
    "\n",
    "\n",
    "**Linear SVR**: Support Vector Machines are powerful and versatile models. Although SVMs are primarily used for classification tasks, we use the SVM Regression version (scikit-learn's LinearSVR class) which is used for regression tasks. This is also powerful as it can handle both linear and nonlinear regression. \n",
    "\n",
    "However, we will not explore nonlinear regression with SVR. This is because the kernalised SVM model, which can be used for nonlinear regression, scales poorly with data size, unlike the LinearSVR class which scales linearly with data size \n",
    "\n",
    "**Gradient Boosting Regressor**: Finally, I would like to use an ensemble method, and a Gradient Boosting Regressor would be an appropriate choice. Ensemble methods can combined several weak learners into a strong learner. Gradient Boosting in particular trains individual learners sequentially, with each subsequent learner being fitted on the residuals of the prior learner. \n",
    "\n",
    "Morever, an ensemble method such as Gradient Boosting generally trades a bit more bias for less variance as well, which is useful in generalising a model to unseen data\n",
    "\n",
    "----\n",
    "\n",
    "In terms of new features, the first priority is to encode our categorical features 'major', 'degreeType', 'jobType' and 'industry'\n",
    "\n",
    "Two of these features are ordinal and two are nominal. As a result, different encoding techniques will be required\n",
    "\n",
    "Just as we created the mean salary per industry as a baseline prediction, it could be valuable to create a mean salary per job type feature\n",
    "\n",
    "On the other hand, the data does not lend itself to any meaningful interaction variables, so these will not be explored"
   ]
  },
  {
   "cell_type": "markdown",
   "metadata": {},
   "source": [
    "## Part 3 - Engineering Features & Developing Models"
   ]
  },
  {
   "cell_type": "markdown",
   "metadata": {},
   "source": [
    "### Convert categorical features to numerical features: 'degree'\n",
    "\n",
    "Let us first encode the 'degree' column type.\n",
    "\n",
    "'Degree' can be considered a ordinal variable (the order of the data matters) more so than a nominal one (the order does not matter); clearly, a Doctoral degree is more advanced than a Master's degree, which itself is more advanced than a Bachelor's degree\n",
    "\n",
    "As a result, it would seem the best way to convert this categorical feature into numbers is to manually encode them, where 0 may correspond to 'NONE' (no degree), 1 to 'HIGH_SCHOOl', 2 to 'BACHELORS' and so on.\n",
    "\n",
    "We could use Label Encoding, but this option does not guarantee the order we want. For example, 'HIGH_SCHOOL' may be assigned to '3' (undesirable) and not '0' (desirable)"
   ]
  },
  {
   "cell_type": "code",
   "execution_count": 30,
   "metadata": {},
   "outputs": [
    {
     "data": {
      "text/plain": [
       "HIGH_SCHOOL    236975\n",
       "NONE           236853\n",
       "BACHELORS      175495\n",
       "DOCTORAL       175362\n",
       "MASTERS        175310\n",
       "Name: degree, dtype: int64"
      ]
     },
     "execution_count": 30,
     "metadata": {},
     "output_type": "execute_result"
    }
   ],
   "source": [
    "data_combined.degree.value_counts()"
   ]
  },
  {
   "cell_type": "code",
   "execution_count": 31,
   "metadata": {},
   "outputs": [],
   "source": [
    "data_combined['Degree Category'] = data_combined['degree']"
   ]
  },
  {
   "cell_type": "code",
   "execution_count": 32,
   "metadata": {},
   "outputs": [],
   "source": [
    "data_combined = data_combined.replace({'Degree Category':\n",
    "                                       {'NONE':0, 'HIGH_SCHOOL':1, \n",
    "                                        'BACHELORS':2, 'MASTERS':3,\n",
    "                                        'DOCTORAL':4}})"
   ]
  },
  {
   "cell_type": "markdown",
   "metadata": {},
   "source": [
    "### Convert categorical features to numerical features: 'jobType'\n",
    "\n",
    "\n",
    "Similar to 'degree', 'jobType' can also be considered an ordinal variable, not a nominal one, because a CEO role has the highest possible seniority, followed by a CFO role and so on until a janitor role\\*\n",
    "\n",
    "\n",
    "Therefore, we perform the same transformation here as we did above\n",
    "\n",
    "\\**There is some ambiguity regarding which of CFO or CTO is the more senior rank as this often depends on company context; I will simply consider CFO to be the more senior rank since this has historically been the case*"
   ]
  },
  {
   "cell_type": "code",
   "execution_count": 33,
   "metadata": {},
   "outputs": [
    {
     "data": {
      "text/plain": [
       "SENIOR            125886\n",
       "VICE_PRESIDENT    125234\n",
       "MANAGER           125120\n",
       "CTO               125045\n",
       "JANITOR           124971\n",
       "CEO               124778\n",
       "JUNIOR            124592\n",
       "CFO               124369\n",
       "Name: jobType, dtype: int64"
      ]
     },
     "execution_count": 33,
     "metadata": {},
     "output_type": "execute_result"
    }
   ],
   "source": [
    "data_combined.jobType.value_counts()"
   ]
  },
  {
   "cell_type": "code",
   "execution_count": 34,
   "metadata": {},
   "outputs": [],
   "source": [
    "data_combined['Job Type Category'] = data_combined['jobType']\n",
    "\n",
    "data_combined = data_combined.replace({'Job Type Category':\n",
    "                                       {'JANITOR':0, 'JUNIOR':1, \n",
    "                                        'SENIOR':2, 'MANAGER':3,\n",
    "                                        'VICE_PRESIDENT':4, 'CTO':5,\n",
    "                                        'CFO':6, 'CEO':7}})"
   ]
  },
  {
   "cell_type": "code",
   "execution_count": 35,
   "metadata": {},
   "outputs": [
    {
     "data": {
      "text/html": [
       "<div>\n",
       "<style scoped>\n",
       "    .dataframe tbody tr th:only-of-type {\n",
       "        vertical-align: middle;\n",
       "    }\n",
       "\n",
       "    .dataframe tbody tr th {\n",
       "        vertical-align: top;\n",
       "    }\n",
       "\n",
       "    .dataframe thead th {\n",
       "        text-align: right;\n",
       "    }\n",
       "</style>\n",
       "<table border=\"1\" class=\"dataframe\">\n",
       "  <thead>\n",
       "    <tr style=\"text-align: right;\">\n",
       "      <th></th>\n",
       "      <th>jobId</th>\n",
       "      <th>companyId</th>\n",
       "      <th>jobType</th>\n",
       "      <th>degree</th>\n",
       "      <th>major</th>\n",
       "      <th>industry</th>\n",
       "      <th>yearsExperience</th>\n",
       "      <th>milesFromMetropolis</th>\n",
       "      <th>salary</th>\n",
       "      <th>Baseline Prediction</th>\n",
       "      <th>Degree Category</th>\n",
       "      <th>Job Type Category</th>\n",
       "    </tr>\n",
       "  </thead>\n",
       "  <tbody>\n",
       "    <tr>\n",
       "      <td>0</td>\n",
       "      <td>JOB1362684407687</td>\n",
       "      <td>COMP37</td>\n",
       "      <td>CFO</td>\n",
       "      <td>MASTERS</td>\n",
       "      <td>MATH</td>\n",
       "      <td>HEALTH</td>\n",
       "      <td>10</td>\n",
       "      <td>83</td>\n",
       "      <td>130</td>\n",
       "      <td>115.735540</td>\n",
       "      <td>3</td>\n",
       "      <td>6</td>\n",
       "    </tr>\n",
       "    <tr>\n",
       "      <td>1</td>\n",
       "      <td>JOB1362684407688</td>\n",
       "      <td>COMP19</td>\n",
       "      <td>CEO</td>\n",
       "      <td>HIGH_SCHOOL</td>\n",
       "      <td>NONE</td>\n",
       "      <td>WEB</td>\n",
       "      <td>3</td>\n",
       "      <td>73</td>\n",
       "      <td>101</td>\n",
       "      <td>121.645362</td>\n",
       "      <td>1</td>\n",
       "      <td>7</td>\n",
       "    </tr>\n",
       "    <tr>\n",
       "      <td>2</td>\n",
       "      <td>JOB1362684407689</td>\n",
       "      <td>COMP52</td>\n",
       "      <td>VICE_PRESIDENT</td>\n",
       "      <td>DOCTORAL</td>\n",
       "      <td>PHYSICS</td>\n",
       "      <td>HEALTH</td>\n",
       "      <td>10</td>\n",
       "      <td>38</td>\n",
       "      <td>137</td>\n",
       "      <td>115.735540</td>\n",
       "      <td>4</td>\n",
       "      <td>4</td>\n",
       "    </tr>\n",
       "    <tr>\n",
       "      <td>3</td>\n",
       "      <td>JOB1362684407690</td>\n",
       "      <td>COMP38</td>\n",
       "      <td>MANAGER</td>\n",
       "      <td>DOCTORAL</td>\n",
       "      <td>CHEMISTRY</td>\n",
       "      <td>AUTO</td>\n",
       "      <td>8</td>\n",
       "      <td>17</td>\n",
       "      <td>142</td>\n",
       "      <td>109.435222</td>\n",
       "      <td>4</td>\n",
       "      <td>3</td>\n",
       "    </tr>\n",
       "    <tr>\n",
       "      <td>4</td>\n",
       "      <td>JOB1362684407691</td>\n",
       "      <td>COMP7</td>\n",
       "      <td>VICE_PRESIDENT</td>\n",
       "      <td>BACHELORS</td>\n",
       "      <td>PHYSICS</td>\n",
       "      <td>FINANCE</td>\n",
       "      <td>8</td>\n",
       "      <td>16</td>\n",
       "      <td>163</td>\n",
       "      <td>130.747659</td>\n",
       "      <td>2</td>\n",
       "      <td>4</td>\n",
       "    </tr>\n",
       "    <tr>\n",
       "      <td>...</td>\n",
       "      <td>...</td>\n",
       "      <td>...</td>\n",
       "      <td>...</td>\n",
       "      <td>...</td>\n",
       "      <td>...</td>\n",
       "      <td>...</td>\n",
       "      <td>...</td>\n",
       "      <td>...</td>\n",
       "      <td>...</td>\n",
       "      <td>...</td>\n",
       "      <td>...</td>\n",
       "      <td>...</td>\n",
       "    </tr>\n",
       "    <tr>\n",
       "      <td>999995</td>\n",
       "      <td>JOB1362685407682</td>\n",
       "      <td>COMP56</td>\n",
       "      <td>VICE_PRESIDENT</td>\n",
       "      <td>BACHELORS</td>\n",
       "      <td>CHEMISTRY</td>\n",
       "      <td>HEALTH</td>\n",
       "      <td>19</td>\n",
       "      <td>94</td>\n",
       "      <td>88</td>\n",
       "      <td>115.735540</td>\n",
       "      <td>2</td>\n",
       "      <td>4</td>\n",
       "    </tr>\n",
       "    <tr>\n",
       "      <td>999996</td>\n",
       "      <td>JOB1362685407683</td>\n",
       "      <td>COMP24</td>\n",
       "      <td>CTO</td>\n",
       "      <td>HIGH_SCHOOL</td>\n",
       "      <td>NONE</td>\n",
       "      <td>FINANCE</td>\n",
       "      <td>12</td>\n",
       "      <td>35</td>\n",
       "      <td>160</td>\n",
       "      <td>130.747659</td>\n",
       "      <td>1</td>\n",
       "      <td>5</td>\n",
       "    </tr>\n",
       "    <tr>\n",
       "      <td>999997</td>\n",
       "      <td>JOB1362685407684</td>\n",
       "      <td>COMP23</td>\n",
       "      <td>JUNIOR</td>\n",
       "      <td>HIGH_SCHOOL</td>\n",
       "      <td>NONE</td>\n",
       "      <td>EDUCATION</td>\n",
       "      <td>16</td>\n",
       "      <td>81</td>\n",
       "      <td>64</td>\n",
       "      <td>99.448386</td>\n",
       "      <td>1</td>\n",
       "      <td>1</td>\n",
       "    </tr>\n",
       "    <tr>\n",
       "      <td>999998</td>\n",
       "      <td>JOB1362685407685</td>\n",
       "      <td>COMP3</td>\n",
       "      <td>CFO</td>\n",
       "      <td>MASTERS</td>\n",
       "      <td>NONE</td>\n",
       "      <td>HEALTH</td>\n",
       "      <td>6</td>\n",
       "      <td>5</td>\n",
       "      <td>149</td>\n",
       "      <td>115.735540</td>\n",
       "      <td>3</td>\n",
       "      <td>6</td>\n",
       "    </tr>\n",
       "    <tr>\n",
       "      <td>999999</td>\n",
       "      <td>JOB1362685407686</td>\n",
       "      <td>COMP59</td>\n",
       "      <td>JUNIOR</td>\n",
       "      <td>BACHELORS</td>\n",
       "      <td>NONE</td>\n",
       "      <td>EDUCATION</td>\n",
       "      <td>20</td>\n",
       "      <td>11</td>\n",
       "      <td>88</td>\n",
       "      <td>99.448386</td>\n",
       "      <td>2</td>\n",
       "      <td>1</td>\n",
       "    </tr>\n",
       "  </tbody>\n",
       "</table>\n",
       "<p>999995 rows × 12 columns</p>\n",
       "</div>"
      ],
      "text/plain": [
       "                   jobId companyId         jobType       degree      major  \\\n",
       "0       JOB1362684407687    COMP37             CFO      MASTERS       MATH   \n",
       "1       JOB1362684407688    COMP19             CEO  HIGH_SCHOOL       NONE   \n",
       "2       JOB1362684407689    COMP52  VICE_PRESIDENT     DOCTORAL    PHYSICS   \n",
       "3       JOB1362684407690    COMP38         MANAGER     DOCTORAL  CHEMISTRY   \n",
       "4       JOB1362684407691     COMP7  VICE_PRESIDENT    BACHELORS    PHYSICS   \n",
       "...                  ...       ...             ...          ...        ...   \n",
       "999995  JOB1362685407682    COMP56  VICE_PRESIDENT    BACHELORS  CHEMISTRY   \n",
       "999996  JOB1362685407683    COMP24             CTO  HIGH_SCHOOL       NONE   \n",
       "999997  JOB1362685407684    COMP23          JUNIOR  HIGH_SCHOOL       NONE   \n",
       "999998  JOB1362685407685     COMP3             CFO      MASTERS       NONE   \n",
       "999999  JOB1362685407686    COMP59          JUNIOR    BACHELORS       NONE   \n",
       "\n",
       "         industry  yearsExperience  milesFromMetropolis  salary  \\\n",
       "0          HEALTH               10                   83     130   \n",
       "1             WEB                3                   73     101   \n",
       "2          HEALTH               10                   38     137   \n",
       "3            AUTO                8                   17     142   \n",
       "4         FINANCE                8                   16     163   \n",
       "...           ...              ...                  ...     ...   \n",
       "999995     HEALTH               19                   94      88   \n",
       "999996    FINANCE               12                   35     160   \n",
       "999997  EDUCATION               16                   81      64   \n",
       "999998     HEALTH                6                    5     149   \n",
       "999999  EDUCATION               20                   11      88   \n",
       "\n",
       "        Baseline Prediction  Degree Category  Job Type Category  \n",
       "0                115.735540                3                  6  \n",
       "1                121.645362                1                  7  \n",
       "2                115.735540                4                  4  \n",
       "3                109.435222                4                  3  \n",
       "4                130.747659                2                  4  \n",
       "...                     ...              ...                ...  \n",
       "999995           115.735540                2                  4  \n",
       "999996           130.747659                1                  5  \n",
       "999997            99.448386                1                  1  \n",
       "999998           115.735540                3                  6  \n",
       "999999            99.448386                2                  1  \n",
       "\n",
       "[999995 rows x 12 columns]"
      ]
     },
     "execution_count": 35,
     "metadata": {},
     "output_type": "execute_result"
    }
   ],
   "source": [
    "data_combined"
   ]
  },
  {
   "cell_type": "markdown",
   "metadata": {},
   "source": [
    "### Convert categorical features to numerical features: 'major'\n",
    "\n",
    "Unlike 'degree' and 'jobType', 'major' cannot be considered to be an ordinal variable. 'Physics' cannot be said to be greater or lesser in some intuitive way than 'Engineering'. As a result, manual label encoding that maps options to different numbers (1, 2, 3...) is not the optimal approach here\n",
    "\n",
    "\n",
    "Hence, it would be better to use dummy variables. One disadvantage of this, as referred to before, is that this will add many sparse columns to our dataframe. This may slow down our model training"
   ]
  },
  {
   "cell_type": "code",
   "execution_count": 36,
   "metadata": {},
   "outputs": [
    {
     "data": {
      "text/html": [
       "<div>\n",
       "<style scoped>\n",
       "    .dataframe tbody tr th:only-of-type {\n",
       "        vertical-align: middle;\n",
       "    }\n",
       "\n",
       "    .dataframe tbody tr th {\n",
       "        vertical-align: top;\n",
       "    }\n",
       "\n",
       "    .dataframe thead th {\n",
       "        text-align: right;\n",
       "    }\n",
       "</style>\n",
       "<table border=\"1\" class=\"dataframe\">\n",
       "  <thead>\n",
       "    <tr style=\"text-align: right;\">\n",
       "      <th></th>\n",
       "      <th>Major_Biology</th>\n",
       "      <th>Major_Business</th>\n",
       "      <th>Major_Chemistry</th>\n",
       "      <th>Major_CompSci</th>\n",
       "      <th>Major_Engineering</th>\n",
       "      <th>Major_Literature</th>\n",
       "      <th>Major_Math</th>\n",
       "      <th>Major_None</th>\n",
       "      <th>Major_Physics</th>\n",
       "    </tr>\n",
       "  </thead>\n",
       "  <tbody>\n",
       "    <tr>\n",
       "      <td>0</td>\n",
       "      <td>0</td>\n",
       "      <td>0</td>\n",
       "      <td>0</td>\n",
       "      <td>0</td>\n",
       "      <td>0</td>\n",
       "      <td>0</td>\n",
       "      <td>1</td>\n",
       "      <td>0</td>\n",
       "      <td>0</td>\n",
       "    </tr>\n",
       "    <tr>\n",
       "      <td>1</td>\n",
       "      <td>0</td>\n",
       "      <td>0</td>\n",
       "      <td>0</td>\n",
       "      <td>0</td>\n",
       "      <td>0</td>\n",
       "      <td>0</td>\n",
       "      <td>0</td>\n",
       "      <td>1</td>\n",
       "      <td>0</td>\n",
       "    </tr>\n",
       "    <tr>\n",
       "      <td>2</td>\n",
       "      <td>0</td>\n",
       "      <td>0</td>\n",
       "      <td>0</td>\n",
       "      <td>0</td>\n",
       "      <td>0</td>\n",
       "      <td>0</td>\n",
       "      <td>0</td>\n",
       "      <td>0</td>\n",
       "      <td>1</td>\n",
       "    </tr>\n",
       "    <tr>\n",
       "      <td>3</td>\n",
       "      <td>0</td>\n",
       "      <td>0</td>\n",
       "      <td>1</td>\n",
       "      <td>0</td>\n",
       "      <td>0</td>\n",
       "      <td>0</td>\n",
       "      <td>0</td>\n",
       "      <td>0</td>\n",
       "      <td>0</td>\n",
       "    </tr>\n",
       "    <tr>\n",
       "      <td>4</td>\n",
       "      <td>0</td>\n",
       "      <td>0</td>\n",
       "      <td>0</td>\n",
       "      <td>0</td>\n",
       "      <td>0</td>\n",
       "      <td>0</td>\n",
       "      <td>0</td>\n",
       "      <td>0</td>\n",
       "      <td>1</td>\n",
       "    </tr>\n",
       "  </tbody>\n",
       "</table>\n",
       "</div>"
      ],
      "text/plain": [
       "   Major_Biology  Major_Business  Major_Chemistry  Major_CompSci  \\\n",
       "0              0               0                0              0   \n",
       "1              0               0                0              0   \n",
       "2              0               0                0              0   \n",
       "3              0               0                1              0   \n",
       "4              0               0                0              0   \n",
       "\n",
       "   Major_Engineering  Major_Literature  Major_Math  Major_None  Major_Physics  \n",
       "0                  0                 0           1           0              0  \n",
       "1                  0                 0           0           1              0  \n",
       "2                  0                 0           0           0              1  \n",
       "3                  0                 0           0           0              0  \n",
       "4                  0                 0           0           0              1  "
      ]
     },
     "execution_count": 36,
     "metadata": {},
     "output_type": "execute_result"
    }
   ],
   "source": [
    "major_dummy_data = pd.get_dummies(data_combined['major'])\n",
    "major_dummy_data = major_dummy_data.rename({'BIOLOGY':'Major_Biology',\n",
    "                                            'BUSINESS':'Major_Business',\n",
    "                                            'CHEMISTRY':'Major_Chemistry',\n",
    "                                            'COMPSCI':'Major_CompSci',\n",
    "                                            'ENGINEERING':'Major_Engineering',\n",
    "                                            'LITERATURE':'Major_Literature',\n",
    "                                            'MATH':'Major_Math',\n",
    "                                            'NONE':'Major_None',\n",
    "                                            'PHYSICS':'Major_Physics'},\n",
    "                                             axis = 1)\n",
    "\n",
    "major_dummy_data.head()"
   ]
  },
  {
   "cell_type": "code",
   "execution_count": 37,
   "metadata": {},
   "outputs": [],
   "source": [
    "data_combined = pd.concat([data_combined, major_dummy_data], axis = 1)"
   ]
  },
  {
   "cell_type": "markdown",
   "metadata": {},
   "source": [
    "### Convert categorical features to numerical features: 'industry'\n",
    "\n",
    "Similar to the 'major' variable, 'industry' is also nominal; we cannot intuitively order its values. Again, we will create dummy variables"
   ]
  },
  {
   "cell_type": "code",
   "execution_count": 38,
   "metadata": {},
   "outputs": [
    {
     "data": {
      "text/html": [
       "<div>\n",
       "<style scoped>\n",
       "    .dataframe tbody tr th:only-of-type {\n",
       "        vertical-align: middle;\n",
       "    }\n",
       "\n",
       "    .dataframe tbody tr th {\n",
       "        vertical-align: top;\n",
       "    }\n",
       "\n",
       "    .dataframe thead th {\n",
       "        text-align: right;\n",
       "    }\n",
       "</style>\n",
       "<table border=\"1\" class=\"dataframe\">\n",
       "  <thead>\n",
       "    <tr style=\"text-align: right;\">\n",
       "      <th></th>\n",
       "      <th>Industry_Auto</th>\n",
       "      <th>Industry_Education</th>\n",
       "      <th>Industry_Finance</th>\n",
       "      <th>Industry_Health</th>\n",
       "      <th>Industry_Oil</th>\n",
       "      <th>Industry_Service</th>\n",
       "      <th>Industry_Web</th>\n",
       "    </tr>\n",
       "  </thead>\n",
       "  <tbody>\n",
       "    <tr>\n",
       "      <td>0</td>\n",
       "      <td>0</td>\n",
       "      <td>0</td>\n",
       "      <td>0</td>\n",
       "      <td>1</td>\n",
       "      <td>0</td>\n",
       "      <td>0</td>\n",
       "      <td>0</td>\n",
       "    </tr>\n",
       "    <tr>\n",
       "      <td>1</td>\n",
       "      <td>0</td>\n",
       "      <td>0</td>\n",
       "      <td>0</td>\n",
       "      <td>0</td>\n",
       "      <td>0</td>\n",
       "      <td>0</td>\n",
       "      <td>1</td>\n",
       "    </tr>\n",
       "    <tr>\n",
       "      <td>2</td>\n",
       "      <td>0</td>\n",
       "      <td>0</td>\n",
       "      <td>0</td>\n",
       "      <td>1</td>\n",
       "      <td>0</td>\n",
       "      <td>0</td>\n",
       "      <td>0</td>\n",
       "    </tr>\n",
       "    <tr>\n",
       "      <td>3</td>\n",
       "      <td>1</td>\n",
       "      <td>0</td>\n",
       "      <td>0</td>\n",
       "      <td>0</td>\n",
       "      <td>0</td>\n",
       "      <td>0</td>\n",
       "      <td>0</td>\n",
       "    </tr>\n",
       "    <tr>\n",
       "      <td>4</td>\n",
       "      <td>0</td>\n",
       "      <td>0</td>\n",
       "      <td>1</td>\n",
       "      <td>0</td>\n",
       "      <td>0</td>\n",
       "      <td>0</td>\n",
       "      <td>0</td>\n",
       "    </tr>\n",
       "  </tbody>\n",
       "</table>\n",
       "</div>"
      ],
      "text/plain": [
       "   Industry_Auto  Industry_Education  Industry_Finance  Industry_Health  \\\n",
       "0              0                   0                 0                1   \n",
       "1              0                   0                 0                0   \n",
       "2              0                   0                 0                1   \n",
       "3              1                   0                 0                0   \n",
       "4              0                   0                 1                0   \n",
       "\n",
       "   Industry_Oil  Industry_Service  Industry_Web  \n",
       "0             0                 0             0  \n",
       "1             0                 0             1  \n",
       "2             0                 0             0  \n",
       "3             0                 0             0  \n",
       "4             0                 0             0  "
      ]
     },
     "execution_count": 38,
     "metadata": {},
     "output_type": "execute_result"
    }
   ],
   "source": [
    "industry_dummy_data = pd.get_dummies(data_combined['industry'])\n",
    "\n",
    "industry_dummy_data = industry_dummy_data.rename({'AUTO':'Industry_Auto',\n",
    "                                            'EDUCATION':'Industry_Education',\n",
    "                                            'FINANCE':'Industry_Finance',\n",
    "                                            'HEALTH':'Industry_Health',\n",
    "                                            'OIL':'Industry_Oil',\n",
    "                                            'SERVICE':'Industry_Service',\n",
    "                                            'WEB':'Industry_Web'},\n",
    "                                             axis = 1)\n",
    "\n",
    "\n",
    "\n",
    "industry_dummy_data.head()"
   ]
  },
  {
   "cell_type": "code",
   "execution_count": 39,
   "metadata": {},
   "outputs": [],
   "source": [
    "data_combined = pd.concat([data_combined, industry_dummy_data], axis = 1)"
   ]
  },
  {
   "cell_type": "code",
   "execution_count": 40,
   "metadata": {},
   "outputs": [
    {
     "data": {
      "text/html": [
       "<div>\n",
       "<style scoped>\n",
       "    .dataframe tbody tr th:only-of-type {\n",
       "        vertical-align: middle;\n",
       "    }\n",
       "\n",
       "    .dataframe tbody tr th {\n",
       "        vertical-align: top;\n",
       "    }\n",
       "\n",
       "    .dataframe thead th {\n",
       "        text-align: right;\n",
       "    }\n",
       "</style>\n",
       "<table border=\"1\" class=\"dataframe\">\n",
       "  <thead>\n",
       "    <tr style=\"text-align: right;\">\n",
       "      <th></th>\n",
       "      <th>jobId</th>\n",
       "      <th>companyId</th>\n",
       "      <th>jobType</th>\n",
       "      <th>degree</th>\n",
       "      <th>major</th>\n",
       "      <th>industry</th>\n",
       "      <th>yearsExperience</th>\n",
       "      <th>milesFromMetropolis</th>\n",
       "      <th>salary</th>\n",
       "      <th>Baseline Prediction</th>\n",
       "      <th>...</th>\n",
       "      <th>Major_Math</th>\n",
       "      <th>Major_None</th>\n",
       "      <th>Major_Physics</th>\n",
       "      <th>Industry_Auto</th>\n",
       "      <th>Industry_Education</th>\n",
       "      <th>Industry_Finance</th>\n",
       "      <th>Industry_Health</th>\n",
       "      <th>Industry_Oil</th>\n",
       "      <th>Industry_Service</th>\n",
       "      <th>Industry_Web</th>\n",
       "    </tr>\n",
       "  </thead>\n",
       "  <tbody>\n",
       "    <tr>\n",
       "      <td>999995</td>\n",
       "      <td>JOB1362685407682</td>\n",
       "      <td>COMP56</td>\n",
       "      <td>VICE_PRESIDENT</td>\n",
       "      <td>BACHELORS</td>\n",
       "      <td>CHEMISTRY</td>\n",
       "      <td>HEALTH</td>\n",
       "      <td>19</td>\n",
       "      <td>94</td>\n",
       "      <td>88</td>\n",
       "      <td>115.735540</td>\n",
       "      <td>...</td>\n",
       "      <td>0</td>\n",
       "      <td>0</td>\n",
       "      <td>0</td>\n",
       "      <td>0</td>\n",
       "      <td>0</td>\n",
       "      <td>0</td>\n",
       "      <td>1</td>\n",
       "      <td>0</td>\n",
       "      <td>0</td>\n",
       "      <td>0</td>\n",
       "    </tr>\n",
       "    <tr>\n",
       "      <td>999996</td>\n",
       "      <td>JOB1362685407683</td>\n",
       "      <td>COMP24</td>\n",
       "      <td>CTO</td>\n",
       "      <td>HIGH_SCHOOL</td>\n",
       "      <td>NONE</td>\n",
       "      <td>FINANCE</td>\n",
       "      <td>12</td>\n",
       "      <td>35</td>\n",
       "      <td>160</td>\n",
       "      <td>130.747659</td>\n",
       "      <td>...</td>\n",
       "      <td>0</td>\n",
       "      <td>1</td>\n",
       "      <td>0</td>\n",
       "      <td>0</td>\n",
       "      <td>0</td>\n",
       "      <td>1</td>\n",
       "      <td>0</td>\n",
       "      <td>0</td>\n",
       "      <td>0</td>\n",
       "      <td>0</td>\n",
       "    </tr>\n",
       "    <tr>\n",
       "      <td>999997</td>\n",
       "      <td>JOB1362685407684</td>\n",
       "      <td>COMP23</td>\n",
       "      <td>JUNIOR</td>\n",
       "      <td>HIGH_SCHOOL</td>\n",
       "      <td>NONE</td>\n",
       "      <td>EDUCATION</td>\n",
       "      <td>16</td>\n",
       "      <td>81</td>\n",
       "      <td>64</td>\n",
       "      <td>99.448386</td>\n",
       "      <td>...</td>\n",
       "      <td>0</td>\n",
       "      <td>1</td>\n",
       "      <td>0</td>\n",
       "      <td>0</td>\n",
       "      <td>1</td>\n",
       "      <td>0</td>\n",
       "      <td>0</td>\n",
       "      <td>0</td>\n",
       "      <td>0</td>\n",
       "      <td>0</td>\n",
       "    </tr>\n",
       "    <tr>\n",
       "      <td>999998</td>\n",
       "      <td>JOB1362685407685</td>\n",
       "      <td>COMP3</td>\n",
       "      <td>CFO</td>\n",
       "      <td>MASTERS</td>\n",
       "      <td>NONE</td>\n",
       "      <td>HEALTH</td>\n",
       "      <td>6</td>\n",
       "      <td>5</td>\n",
       "      <td>149</td>\n",
       "      <td>115.735540</td>\n",
       "      <td>...</td>\n",
       "      <td>0</td>\n",
       "      <td>1</td>\n",
       "      <td>0</td>\n",
       "      <td>0</td>\n",
       "      <td>0</td>\n",
       "      <td>0</td>\n",
       "      <td>1</td>\n",
       "      <td>0</td>\n",
       "      <td>0</td>\n",
       "      <td>0</td>\n",
       "    </tr>\n",
       "    <tr>\n",
       "      <td>999999</td>\n",
       "      <td>JOB1362685407686</td>\n",
       "      <td>COMP59</td>\n",
       "      <td>JUNIOR</td>\n",
       "      <td>BACHELORS</td>\n",
       "      <td>NONE</td>\n",
       "      <td>EDUCATION</td>\n",
       "      <td>20</td>\n",
       "      <td>11</td>\n",
       "      <td>88</td>\n",
       "      <td>99.448386</td>\n",
       "      <td>...</td>\n",
       "      <td>0</td>\n",
       "      <td>1</td>\n",
       "      <td>0</td>\n",
       "      <td>0</td>\n",
       "      <td>1</td>\n",
       "      <td>0</td>\n",
       "      <td>0</td>\n",
       "      <td>0</td>\n",
       "      <td>0</td>\n",
       "      <td>0</td>\n",
       "    </tr>\n",
       "  </tbody>\n",
       "</table>\n",
       "<p>5 rows × 28 columns</p>\n",
       "</div>"
      ],
      "text/plain": [
       "                   jobId companyId         jobType       degree      major  \\\n",
       "999995  JOB1362685407682    COMP56  VICE_PRESIDENT    BACHELORS  CHEMISTRY   \n",
       "999996  JOB1362685407683    COMP24             CTO  HIGH_SCHOOL       NONE   \n",
       "999997  JOB1362685407684    COMP23          JUNIOR  HIGH_SCHOOL       NONE   \n",
       "999998  JOB1362685407685     COMP3             CFO      MASTERS       NONE   \n",
       "999999  JOB1362685407686    COMP59          JUNIOR    BACHELORS       NONE   \n",
       "\n",
       "         industry  yearsExperience  milesFromMetropolis  salary  \\\n",
       "999995     HEALTH               19                   94      88   \n",
       "999996    FINANCE               12                   35     160   \n",
       "999997  EDUCATION               16                   81      64   \n",
       "999998     HEALTH                6                    5     149   \n",
       "999999  EDUCATION               20                   11      88   \n",
       "\n",
       "        Baseline Prediction  ...  Major_Math  Major_None  Major_Physics  \\\n",
       "999995           115.735540  ...           0           0              0   \n",
       "999996           130.747659  ...           0           1              0   \n",
       "999997            99.448386  ...           0           1              0   \n",
       "999998           115.735540  ...           0           1              0   \n",
       "999999            99.448386  ...           0           1              0   \n",
       "\n",
       "        Industry_Auto  Industry_Education  Industry_Finance  Industry_Health  \\\n",
       "999995              0                   0                 0                1   \n",
       "999996              0                   0                 1                0   \n",
       "999997              0                   1                 0                0   \n",
       "999998              0                   0                 0                1   \n",
       "999999              0                   1                 0                0   \n",
       "\n",
       "        Industry_Oil  Industry_Service  Industry_Web  \n",
       "999995             0                 0             0  \n",
       "999996             0                 0             0  \n",
       "999997             0                 0             0  \n",
       "999998             0                 0             0  \n",
       "999999             0                 0             0  \n",
       "\n",
       "[5 rows x 28 columns]"
      ]
     },
     "execution_count": 40,
     "metadata": {},
     "output_type": "execute_result"
    }
   ],
   "source": [
    "data_combined.tail()"
   ]
  },
  {
   "cell_type": "markdown",
   "metadata": {},
   "source": [
    "### Create mean salary for each job type"
   ]
  },
  {
   "cell_type": "code",
   "execution_count": 41,
   "metadata": {},
   "outputs": [],
   "source": [
    "job_mean_salary = data_combined.groupby('jobType')['salary'].mean()\n",
    "\n",
    "job_mean_salary\n",
    "\n",
    "# intialise variables\n",
    "\n",
    "ceo_salary = job_mean_salary[0]\n",
    "cfo_salary = job_mean_salary[1]\n",
    "cto_salary = job_mean_salary[2]\n",
    "janitor_salary = job_mean_salary[3]\n",
    "junior_salary = job_mean_salary[4]\n",
    "manager_salary = job_mean_salary[5]\n",
    "senior_salary = job_mean_salary[6]\n",
    "vp_salary = job_mean_salary[7]\n"
   ]
  },
  {
   "cell_type": "code",
   "execution_count": 42,
   "metadata": {},
   "outputs": [],
   "source": [
    "data_combined['Mean Salary Per Job Type'] = np.NaN"
   ]
  },
  {
   "cell_type": "code",
   "execution_count": 43,
   "metadata": {},
   "outputs": [],
   "source": [
    "# replace each NaN with the average salary of the industry for the relevant row\n",
    "\n",
    "data_combined['Mean Salary Per Job Type'] = np.where(\n",
    "                                      (data_combined['jobType'] == 'CEO'), \n",
    "                                       ceo_salary, data_combined['Mean Salary Per Job Type'])\n",
    "\n",
    "data_combined['Mean Salary Per Job Type'] = np.where(\n",
    "                                      (data_combined['jobType'] == 'CFO'), \n",
    "                                       cfo_salary, data_combined['Mean Salary Per Job Type'])\n",
    "\n",
    "data_combined['Mean Salary Per Job Type'] = np.where(\n",
    "                                      (data_combined['jobType'] == 'CTO'), \n",
    "                                       cto_salary, data_combined['Mean Salary Per Job Type'])\n",
    "\n",
    "data_combined['Mean Salary Per Job Type'] = np.where(\n",
    "                                      (data_combined['jobType'] == 'JANITOR'), \n",
    "                                       janitor_salary, data_combined['Mean Salary Per Job Type'])\n",
    "\n",
    "data_combined['Mean Salary Per Job Type'] = np.where(\n",
    "                                      (data_combined['jobType'] == 'JUNIOR'), \n",
    "                                       junior_salary, data_combined['Mean Salary Per Job Type'])\n",
    "\n",
    "data_combined['Mean Salary Per Job Type'] = np.where(\n",
    "                                      (data_combined['jobType'] == 'MANAGER'), \n",
    "                                       manager_salary, data_combined['Mean Salary Per Job Type'])\n",
    "\n",
    "data_combined['Mean Salary Per Job Type'] = np.where(\n",
    "                                      (data_combined['jobType'] == 'SENIOR'), \n",
    "                                       senior_salary, data_combined['Mean Salary Per Job Type'])\n",
    "\n",
    "data_combined['Mean Salary Per Job Type'] = np.where(\n",
    "                                      (data_combined['jobType'] == 'VICE_PRESIDENT'), \n",
    "                                       vp_salary, data_combined['Mean Salary Per Job Type'])"
   ]
  },
  {
   "cell_type": "markdown",
   "metadata": {},
   "source": [
    "### Checking for correlations between selected newly engineered features and 'salary'\n",
    "\n",
    "We will investigate only the ordinal features and mean salary per job type. Including dummy variables in the correlation heatmap will lead to a congested visualisation"
   ]
  },
  {
   "cell_type": "code",
   "execution_count": 44,
   "metadata": {},
   "outputs": [
    {
     "data": {
      "text/plain": [
       "<matplotlib.axes._subplots.AxesSubplot at 0x7f95f5e6fa10>"
      ]
     },
     "execution_count": 44,
     "metadata": {},
     "output_type": "execute_result"
    },
    {
     "data": {
      "image/png": "[encoded data removed]",
      "text/plain": [
       "<Figure size 576x432 with 2 Axes>"
      ]
     },
     "metadata": {
      "needs_background": "light"
     },
     "output_type": "display_data"
    }
   ],
   "source": [
    "plt.figure(figsize = (8, 6))\n",
    "\n",
    "new_features_data = data_combined[['Degree Category', 'Job Type Category',\n",
    "                     'Mean Salary Per Job Type', 'salary']]\n",
    "\n",
    "sns.heatmap(new_features_data.corr(), annot = True, fmt = '.2f', cmap = 'mako')"
   ]
  },
  {
   "cell_type": "markdown",
   "metadata": {},
   "source": [
    "Thankfully, our newly created features seem to have decent predictive power, as suggested by the correlation coefficients.\n",
    "\n",
    "\n",
    "These coefficients are 0.38, 0.58 and 0.6 for Degree Category, Job Type Category and Mean Salary Per Job Type, respectively"
   ]
  },
  {
   "cell_type": "markdown",
   "metadata": {},
   "source": [
    "### Create and Test models "
   ]
  },
  {
   "cell_type": "code",
   "execution_count": 45,
   "metadata": {},
   "outputs": [],
   "source": [
    "# repeat step of separating features, output and \n",
    "# baseline predictions from one another to include\n",
    "# newly created features\n",
    "\n",
    "X_train = data_combined\n",
    "X_train = X_train.drop(['salary', 'jobId', 'companyId', \n",
    "                        'jobType', 'degree', 'major', \n",
    "                        'industry'], axis = 1)\n",
    "\n",
    "y_train = data_combined['salary']"
   ]
  },
  {
   "cell_type": "markdown",
   "metadata": {},
   "source": [
    "#### My metric will be MSE and my goal is <360"
   ]
  },
  {
   "cell_type": "code",
   "execution_count": 46,
   "metadata": {},
   "outputs": [],
   "source": [
    "# import selected models\n",
    "\n",
    "from sklearn import linear_model\n",
    "from sklearn.svm import LinearSVR\n",
    "from sklearn.tree import DecisionTreeRegressor\n",
    "from sklearn.ensemble import RandomForestRegressor\n",
    "from sklearn.model_selection import cross_val_score\n",
    "\n",
    "# initialise models\n",
    "lr = linear_model.LinearRegression()\n",
    "svm_reg = LinearSVR(epsilon = 0.1)\n",
    "tree_reg = DecisionTreeRegressor()\n",
    "rf_reg = RandomForestRegressor()\n",
    "\n",
    "# create simple function to find 5-fold cross-validation MSE score mean\n",
    "\n",
    "def cross_val_mse(model, X, y):\n",
    "    model_scores = cross_val_score(model, X, y,\n",
    "                                  scoring = 'neg_mean_squared_error',\n",
    "                                  cv = 5)\n",
    "    print('The mean cross-validation score is {}'.format(model_scores.mean()))"
   ]
  },
  {
   "cell_type": "markdown",
   "metadata": {},
   "source": [
    "### Linear Regression"
   ]
  },
  {
   "cell_type": "code",
   "execution_count": 115,
   "metadata": {},
   "outputs": [
    {
     "name": "stdout",
     "output_type": "stream",
     "text": [
      "The mean cross-validation score is -386.63858899427606\n"
     ]
    }
   ],
   "source": [
    "cross_val_mse(linear_model.LinearRegression(), X_train, y_train)"
   ]
  },
  {
   "cell_type": "markdown",
   "metadata": {},
   "source": [
    "### Polynomial Regression with Degree = 2"
   ]
  },
  {
   "cell_type": "code",
   "execution_count": 25,
   "metadata": {},
   "outputs": [],
   "source": [
    "# create polynomial features with degree = 2\n",
    "\n",
    "from sklearn.preprocessing import PolynomialFeatures\n",
    "\n",
    "pr = PolynomialFeatures(degree = 2, include_bias = False)\n",
    "\n",
    "x_polly = pr.fit_transform(X_train)\n",
    "\n",
    "cross_val_mse(lr, x_polly, y_train)"
   ]
  },
  {
   "cell_type": "markdown",
   "metadata": {},
   "source": [
    "### Linear SVR"
   ]
  },
  {
   "cell_type": "code",
   "execution_count": 117,
   "metadata": {},
   "outputs": [
    {
     "name": "stdout",
     "output_type": "stream",
     "text": [
      "The mean cross-validation score is -387.88605390076617\n"
     ]
    }
   ],
   "source": [
    "# scale data as SVM is sensitive to different scales\n",
    "\n",
    "from sklearn.preprocessing import StandardScaler\n",
    "scaler = StandardScaler() \n",
    "X_train_scaled = scaler.fit_transform(X_train)\n",
    "\n",
    "cross_val_mse(svm_reg, X_train_scaled, y_train)"
   ]
  },
  {
   "cell_type": "markdown",
   "metadata": {},
   "source": [
    "### Gradient Boosting Regressor"
   ]
  },
  {
   "cell_type": "markdown",
   "metadata": {},
   "source": [
    "Gradient Boosting Regressor trains each individual learner sequentially. As a result, it does not scale well with data. Let's take a smaller sample of our data to train it"
   ]
  },
  {
   "cell_type": "code",
   "execution_count": 47,
   "metadata": {},
   "outputs": [],
   "source": [
    "sample_data = data_combined.sample(n = 500000, random_state = 42)\n",
    "\n",
    "X_train_sample_500k = sample_data.drop(['salary', 'jobId', 'companyId', \n",
    "                        'jobType', 'degree', 'major', \n",
    "                        'industry'], axis = 1)\n",
    "\n",
    "y_train_sample_500k = sample_data['salary']\n"
   ]
  },
  {
   "cell_type": "code",
   "execution_count": 104,
   "metadata": {},
   "outputs": [
    {
     "name": "stdout",
     "output_type": "stream",
     "text": [
      "The mean cross-validation score is -366.4483854053291\n"
     ]
    }
   ],
   "source": [
    "from sklearn.ensemble import GradientBoostingRegressor\n",
    "\n",
    "gb_reg = GradientBoostingRegressor()\n",
    "\n",
    "cross_val_mse(gb_reg, X_train_sample_500k, y_train_sample_500k)"
   ]
  },
  {
   "cell_type": "markdown",
   "metadata": {},
   "source": [
    "Now it is a good idea to perform a grid search and find the optimal hyperparameter values for our Gradient Boosting Regressor model. I chose to do this for this model only, as opposed to using grid search for Linear SVR and Decision Trees Regressor also, because of the following:\n",
    "\n",
    "1. With no hyperparameter tuning, Gradient Boosting Regressor performs the best, compare to the other 2 models\n",
    "\n",
    "\n",
    "2. Grid Search can be computationally expensive and take a long time to find solutions, so it is best performed on the most promising model, which in reference to point 1, is Gradient Boosting Regressor\n",
    "\n",
    "To perform a grid search, I will take another, smaller sample of data to speed this process up"
   ]
  },
  {
   "cell_type": "code",
   "execution_count": 106,
   "metadata": {},
   "outputs": [],
   "source": [
    "sample_data = data_combined.sample(n = 10000, random_state = 42)\n",
    "\n",
    "X_train_sample_10k = sample_data.drop(['salary', 'jobId', 'companyId', \n",
    "                        'jobType', 'degree', 'major', \n",
    "                        'industry'], axis = 1)\n",
    "\n",
    "y_train_sample_10k = sample_data['salary']"
   ]
  },
  {
   "cell_type": "code",
   "execution_count": null,
   "metadata": {},
   "outputs": [],
   "source": [
    "from sklearn.model_selection import GridSearchCV\n",
    "\n",
    "# initialise parameters\n",
    "param_grid = [ {'max_features': [5, 10, 15], 'min_samples_split': [10, 100, 1000],\n",
    "               'learning_rate':[0.5, 1, 1.5], 'max_depth':[4, 8, 12]}]\n",
    "\n",
    "gb_reg_1 = GradientBoostingRegressor(n_estimators = 100)\n",
    "\n",
    "# initialise Grid Search\n",
    "Grid_gb = GridSearchCV(gb_reg_1, param_grid, cv = 5, scoring = 'neg_mean_squared_error')\n",
    "\n",
    "# fit\n",
    "Grid_gb.fit(X_train_sample_10k, y_train_sample_10k)\n",
    "\n",
    "# find best parameters\n",
    "print(Grid_gb.best_estimator_)\n",
    "\n",
    "#find scores\n",
    "gb_grid_scores = Grid_gb.cv_results_\n",
    "gb_grid_scores['mean_test_score']"
   ]
  },
  {
   "cell_type": "code",
   "execution_count": 49,
   "metadata": {},
   "outputs": [
    {
     "name": "stdout",
     "output_type": "stream",
     "text": [
      "The mean cross-validation score is -358.93489018440266\n"
     ]
    }
   ],
   "source": [
    "#cross validation score of tuned Gradient Boosting Regressor\n",
    "\n",
    "\n",
    "gb_reg_2 = GradientBoostingRegressor(n_estimators = 160, learning_rate = 0.1,\n",
    "                                     max_depth = 4, max_features = 10, min_samples_split = 1000)\n",
    "\n",
    "cross_val_mse(gb_reg_2, X_train_sample_500k, y_train_sample_500k)"
   ]
  },
  {
   "cell_type": "markdown",
   "metadata": {},
   "source": [
    "### Selecting the best model "
   ]
  },
  {
   "cell_type": "markdown",
   "metadata": {},
   "source": [
    "The best model is polynomial regression with degree = 2. It achieved an MSE of 354, a 74.1% improvement over the baseline model MSE of 1367.12"
   ]
  },
  {
   "cell_type": "markdown",
   "metadata": {},
   "source": [
    "## Part 4 - Deploy"
   ]
  },
  {
   "cell_type": "markdown",
   "metadata": {},
   "source": [
    "### Automating our pipeline"
   ]
  },
  {
   "cell_type": "code",
   "execution_count": 125,
   "metadata": {},
   "outputs": [],
   "source": [
    "#write script that trains model on entire training set, saves model to disk,\n",
    "#and scores the \"test\" dataset\n",
    "\n",
    "def train_test_model(gb_reg_tuned, X_train, y_train, X_test, y_test):\n",
    "    \n",
    "    # apply quadratic transform to train set\n",
    "    pr_train = PolynomialFeatures(degree = 2, include_bias = False)\n",
    "    \n",
    "    X_train = X_train.drop(['salary', 'jobId', 'companyId', \n",
    "                        'jobType', 'degree', 'major', \n",
    "                        'industry'], axis = 1)\n",
    "    \n",
    "    x_polly_train = pr_train.fit_transform(X_train)\n",
    "    \n",
    "    # initialise tuned model\n",
    "    gb_reg_tuned = GradientBoostingRegressor(n_estimators = 160, learning_rate = 0.1,\n",
    "                                         max_depth = 4, max_features = 10,\n",
    "                                         min_samples_split = 1000)\n",
    "    \n",
    "    # fit model on X_polly_train and y_train\n",
    "    gb_reg_tuned.fit(x_polly_train, y_train)\n",
    "    \n",
    "    # apply quadratic transform to test set\n",
    "    pr_test = PolynomialFeatures(degree = 2, include_bias = False)\n",
    "    \n",
    "    X_test = X_test.drop(['salary', 'jobId', 'companyId', \n",
    "                        'jobType', 'degree', 'major', \n",
    "                        'industry'], axis = 1)\n",
    "    \n",
    "    x_polly_test = pr_test.fit_transform(X_test)\n",
    "    \n",
    "    # predict y_predicted using trained model\n",
    "    y_predicted = gb_reg_tuned.predict(x_polly_test)\n",
    "    \n",
    "    # test model and print mse\n",
    "    mse = metrics.mean_squared_error(y_test, y_predicted)\n",
    "    \n",
    "    print('The MSE score on the test set is {}'.format(mse))"
   ]
  },
  {
   "cell_type": "markdown",
   "metadata": {},
   "source": [
    "### Summary of Model Performance - MSE"
   ]
  },
  {
   "cell_type": "code",
   "execution_count": 8,
   "metadata": {},
   "outputs": [],
   "source": [
    "# create dataframe\n",
    "mse_performance_data = pd.DataFrame(columns = ['Model', 'MSE'])\n",
    "mse_performance_data['Model'] = pd.Series(['Linear Regression',\n",
    "                                           'Polynomial Regression (n = 2)',\n",
    "                                           'Linear SVR', 'Decision Tree Regressor',\n",
    "                                           'GB Regressor',\n",
    "                                           'GB Regressor (tuned)'])\n",
    "mse_performance_data['MSE'] = pd.Series([386.64, 354.13, 387.89, 689.75, 380.30,\n",
    "                                         358.43])"
   ]
  },
  {
   "cell_type": "code",
   "execution_count": 20,
   "metadata": {},
   "outputs": [
    {
     "data": {
      "text/plain": [
       "Text(0, 0.5, 'MSE')"
      ]
     },
     "execution_count": 20,
     "metadata": {},
     "output_type": "execute_result"
    },
    {
     "data": {
      "image/png": "[encoded data removed]",
      "text/plain": [
       "<Figure size 1440x576 with 1 Axes>"
      ]
     },
     "metadata": {},
     "output_type": "display_data"
    }
   ],
   "source": [
    "# plot\n",
    "\n",
    "plt.figure(figsize = (20, 8))\n",
    "\n",
    "plt.bar(mse_performance_data['Model'], mse_performance_data['MSE'], color = 'teal')\n",
    "plt.title('5-fold MSE for 5 different models')\n",
    "plt.xlabel('Model Name')\n",
    "plt.ylabel('MSE')"
   ]
  },
  {
   "cell_type": "markdown",
   "metadata": {},
   "source": [
    "### Save predictions and model to CSV file"
   ]
  },
  {
   "cell_type": "code",
   "execution_count": null,
   "metadata": {},
   "outputs": [],
   "source": [
    "Since "
   ]
  },
  {
   "cell_type": "code",
   "execution_count": null,
   "metadata": {},
   "outputs": [],
   "source": [
    "from pandas import to_csv\n",
    "\n",
    "# save predictions\n",
    "\n",
    "predicted_salary = y_predicted\n",
    "\n",
    "# save to CSV file\n",
    "\n",
    "predicted_salary.to_csv('/Users/User Name/Desktop/Predicted Salaries.csv')\n",
    "\n",
    "# save model\n",
    "\n",
    "import pickle\n",
    "  \n",
    "# Save the trained model\n",
    "\n",
    "poly_reg_model = LinearRegression()\n",
    "\n",
    "poly_reg_model.fit(x_polly, y_train)\n",
    "\n",
    "poly_reg_model_saved = pickle.dumps(poly_reg_model)"
   ]
  }
 ],
 "metadata": {
  "kernelspec": {
   "display_name": "Python 3",
   "language": "python",
   "name": "python3"
  },
  "language_info": {
   "codemirror_mode": {
    "name": "ipython",
    "version": 3
   },
   "file_extension": ".py",
   "mimetype": "text/x-python",
   "name": "python",
   "nbconvert_exporter": "python",
   "pygments_lexer": "ipython3",
   "version": "3.7.4"
  }
 },
 "nbformat": 4,
 "nbformat_minor": 2
}
